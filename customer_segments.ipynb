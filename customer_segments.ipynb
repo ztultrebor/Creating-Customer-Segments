{
 "cells": [
  {
   "cell_type": "markdown",
   "metadata": {},
   "source": [
    "# Creating Customer Segments"
   ]
  },
  {
   "cell_type": "markdown",
   "metadata": {},
   "source": [
    "In this project you, will analyze a dataset containing annual spending amounts for internal structure, to understand the variation in the different types of customers that a wholesale distributor interacts with.\n",
    "\n",
    "Instructions:\n",
    "\n",
    "- Run each code block below by pressing **Shift+Enter**, making sure to implement any steps marked with a TODO.\n",
    "- Answer each question in the space provided by editing the blocks labeled \"Answer:\".\n",
    "- When you are done, submit the completed notebook (.ipynb) with all code blocks executed, as well as a .pdf version (File > Download as)."
   ]
  },
  {
   "cell_type": "code",
   "execution_count": 1,
   "metadata": {
    "collapsed": false
   },
   "outputs": [
    {
     "name": "stdout",
     "output_type": "stream",
     "text": [
      "Dataset has 440 rows, 6 columns\n",
      "   Fresh  Milk  Grocery  Frozen  Detergents_Paper  Delicatessen\n",
      "0  12669  9656     7561     214              2674          1338\n",
      "1   7057  9810     9568    1762              3293          1776\n",
      "2   6353  8808     7684    2405              3516          7844\n",
      "3  13265  1196     4221    6404               507          1788\n",
      "4  22615  5410     7198    3915              1777          5185\n"
     ]
    }
   ],
   "source": [
    "# Import libraries: NumPy, pandas, matplotlib\n",
    "import numpy as np\n",
    "import pandas as pd\n",
    "import matplotlib.pyplot as plt\n",
    "\n",
    "# Tell iPython to include plots inline in the notebook\n",
    "%matplotlib inline\n",
    "\n",
    "# Read dataset\n",
    "data = pd.read_csv(\"wholesale-customers.csv\")\n",
    "print \"Dataset has {} rows, {} columns\".format(*data.shape)\n",
    "print data.head()  # print the first 5 rows"
   ]
  },
  {
   "cell_type": "markdown",
   "metadata": {},
   "source": [
    "##Feature Transformation"
   ]
  },
  {
   "cell_type": "markdown",
   "metadata": {},
   "source": [
    "**1)** In this section you will be using PCA and ICA to start to understand the structure of the data. Before doing any computations, what do you think will show up in your computations? List one or two ideas for what might show up as the first PCA dimensions, or what type of vectors will show up as ICA dimensions."
   ]
  },
  {
   "cell_type": "markdown",
   "metadata": {},
   "source": [
    "Answer: \n",
    "\n",
    "The first few PCA dimensions will be those that account for the highest proportion of variation in the output. We would expect them to be composed of original features that are correlated in some way: perhaps they are combinations of items that customers tend to purchase together, such as 'fresh' and 'grocery' products. The ICA dimensions will be dimensions that are independent of one another. It seems like 'delicatessen' and 'detergents_paper' are classes that would not be strongly correlated to other classes insofar as customer purchases are concerned, so they would likely show up as ICA dimensions. "
   ]
  },
  {
   "cell_type": "markdown",
   "metadata": {},
   "source": [
    "###PCA"
   ]
  },
  {
   "cell_type": "code",
   "execution_count": 2,
   "metadata": {
    "collapsed": false
   },
   "outputs": [
    {
     "name": "stdout",
     "output_type": "stream",
     "text": [
      "[[-0.97653685 -0.12118407 -0.06154039 -0.15236462  0.00705417 -0.06810471]\n",
      " [-0.11061386  0.51580216  0.76460638 -0.01872345  0.36535076  0.05707921]\n",
      " [-0.17855726  0.50988675 -0.27578088  0.71420037 -0.20440987  0.28321747]\n",
      " [-0.04187648 -0.64564047  0.37546049  0.64629232  0.14938013 -0.02039579]\n",
      " [ 0.015986    0.20323566 -0.1602915   0.22018612  0.20793016 -0.91707659]\n",
      " [-0.01576316  0.03349187  0.41093894 -0.01328898 -0.87128428 -0.26541687]]\n",
      "\n",
      "[ 0.45961362  0.40517227  0.07003008  0.04402344  0.01502212  0.00613848]\n",
      "\n",
      "The principal components are orthonormal\n",
      "The principal component matrix is orthogonal\n"
     ]
    },
    {
     "data": {
      "image/png": "[encoded data removed]",
      "text/plain": [
       "<matplotlib.figure.Figure at 0x7f6d3c59f910>"
      ]
     },
     "metadata": {},
     "output_type": "display_data"
    }
   ],
   "source": [
    "# TODO: Apply PCA with the same number of dimensions as variables in the dataset\n",
    "from sklearn.decomposition import PCA\n",
    "n = min(data.shape)\n",
    "pca = PCA(n_components=n).fit(data)\n",
    "\n",
    "# Print the components and the amount of variance in the data contained in each dimension\n",
    "print pca.components_\n",
    "print '\\n', pca.explained_variance_ratio_\n",
    "\n",
    "#plot data\n",
    "plt.scatter(xrange(1,n+1), pca.explained_variance_ratio_)\n",
    "plt.xlabel('Dimension', size=12)\n",
    "plt.ylabel('Explained Variance', size=12)\n",
    "plt.ylim(0)\n",
    "\n",
    "# truth table from dot products between each row vector combo as check for orthonormality\n",
    "# note the preparation for rounding errors\n",
    "dot_matrix = [(0.99999999 < sum(pca.components_[i] * pca.components_[j]) < 1.00000001) if j==i #unit vector check\n",
    "              else (abs(sum(pca.components_[i] * pca.components_[j])) < 1e-10) #orthogonality check\n",
    "              for i in xrange(n)\n",
    "              for j in xrange(i,n) ]\n",
    "print '\\nThe principal components are %sorthonormal' % (('not ', '')[all(dot_matrix)])\n",
    "\n",
    "#another way to check for orthonormality of the principal component vectorsis the following: if the principal \n",
    "#components matrix is orthogonal, the principal component vectors within it must be orthonormal.\n",
    "#A matrix is orthogonal if that matrix multiplied by its transpose equals the identity matrix. In other words, a \n",
    "#matrix whose transpose is also its inverse is orthogonal\n",
    "U = np.matrix(pca.components_).T\n",
    "truth_matrix = abs((U.T * U) - np.identity(n)) < np.full((n, n),1e-10)\n",
    "print 'The principal component matrix is %sorthogonal' % (('not ', '')[truth_matrix.all()])"
   ]
  },
  {
   "cell_type": "markdown",
   "metadata": {},
   "source": [
    "**2)** How quickly does the variance drop off by dimension? If you were to use PCA on this dataset, how many dimensions would you choose for your analysis? Why?"
   ]
  },
  {
   "cell_type": "markdown",
   "metadata": {
    "collapsed": true
   },
   "source": [
    "Answer: \n",
    "\n",
    "PCA orders its output in terms of explained variance, i.e. the fraction of variance in the data explained by the relationships encoded in each principal component. So we know that the first pricipal component explains more of the variance than any other, the second component more than any other but the first and so on down the line. In our example, the first two principal components account for 46.0% and 40.5% of the variance in the data respectively. In contrast, the third principal component accounts for only 7.0% of the variance. It is clear from the plot above that the explained variance drops off rapidly after the first two components.\n",
    "\n",
    "These results suggest that a total of two principal component dimensions is the ideal number for our data. The first two dimensions explain almost 86.5% of the variance in the data set. Of course we could explain more of the variance by including additional dimensions, but then we run the risk of overfitting and the increase in model variance error that comes with it (variance here refers to the type of modelling error, rather than the distribution of the original data set that we had been discussing earlier). Having said that, the ideal number of two dimensions was arrived at be heuristic means, and the proper way to do it would be to train models with different numbers of dimensions, perhaps using the feature selection technique, then see how they perform on test data. Nevertheless, based only on the analysis at hand, we choose to work with two dimensions."
   ]
  },
  {
   "cell_type": "markdown",
   "metadata": {},
   "source": [
    "**3)** What do the dimensions seem to represent? How can you use this information?"
   ]
  },
  {
   "cell_type": "markdown",
   "metadata": {
    "collapsed": true
   },
   "source": [
    "Answer: \n",
    "\n",
    "The principal component dimensions represent vectors that are linear combinations of the original feature dimensions. In fact, the analysis above shows them to be mutually orthogonal unit vectors. We can think of the six principal component vectors as elements of a principal component matrix, which because the individual vectors within it are orthonormal is orthogonal. This matrix corresponds to a set of six-dimensional orthogonal axes rotated with respect to the original six-dimensional feature axes. The principal components matrix can be applied to an input feature vector to project it onto the principal component axes. Now for our purposes it's not so interesting to take an input, rotate it around in six-dimensional space and see what it looks like when written in terms of a principal component system. But we can see how to extend the concept to execute the highly useful dimensionality reduction discussed in question 2. As opposed to a 6x6 principal component matrix that projects a 6-dimensonal feature vector onto a 6-dimensional principal component space, we can construct a 2x6 principal component matrix that projects a 6-dimensional feature vector onto a 2-dimensional principal component space. Provided this reduced dimensionality principal component space explains a sufficient amount of the variance in the data (which by the analysis above, we know ours does) we can substantially reduce the computational workload a clustering algorithm would be asked to perform without sacrificing much in terms of valuable information. \n",
    "\n",
    "The first principal component dimension has a coefficient of -0.98 for the 'fresh' feature, -0.15 for the 'frozen' feature and so on. It's pretty obvious that the first principal component is predominantly the 'fresh' feature vector rotated a bit away from the original. Despite the answer given to question 1 above, it seems like the 'fresh' feature has become a principle component almost unto itself. And now that we see this, we see the error in our ways that led to the erroneous answer to question 1. There is no reason that the most principal component need elucidate a strong covariance relationship between features. According to the README doc, the 'fresh' feature has the largest variance of any feature, and we attribute this, at least in part, to scale: the shops spend 50% more on average on 'fresh' items than on those from any other category. There is no need for 'fresh' to correlate to any other feature to have a great influence on total variance. There just needs to be a lot of variation from shop to shop on how much they spend on 'fresh' items. We can use this finding to suggest our wholesale distributor client increase marketing on 'fresh' products to shops who don't buy much of it, as there seems to be a great but uneven demand for 'fresh' products across the client's customer base.\n",
    "\n",
    "The second dimension shows what appears to be the type of correlation we initially expected to see, between two or even three of the original features: 'grocery' with coefficient 0.76, 'milk' with coefficient 0.52 and perhaps 'detergents_paper' with coefficient 0.37. This component is much more a composite of multiple features than the first principal component. This is an interesting finding, as it tells us that stores that buy more 'grocery' items tend also to buy more 'milk' items and to some degree more 'detergents_paper' items as well (and they do correlate positively: all coefficients are the same sign: positive). We can use this discovery to encourage our wholesale distributor client to try to increase sales by marketing these items in a synergistic fashion, and to reduce costs by bundling/delivering them together."
   ]
  },
  {
   "cell_type": "markdown",
   "metadata": {},
   "source": [
    "###ICA"
   ]
  },
  {
   "cell_type": "code",
   "execution_count": 3,
   "metadata": {
    "collapsed": false
   },
   "outputs": [
    {
     "name": "stdout",
     "output_type": "stream",
     "text": [
      "[[  8.65203357e-07   1.40433954e-07  -7.74134859e-07  -1.11461596e-05\n",
      "    5.55175206e-07   5.95231239e-06]\n",
      " [ -3.97590618e-06   8.59058328e-07   6.24232403e-07   6.77446468e-07\n",
      "   -2.06101033e-06   1.04342316e-06]\n",
      " [ -2.10589800e-07   1.88727663e-06  -6.41843645e-06  -4.12230621e-07\n",
      "    7.88586022e-07   1.45013212e-06]\n",
      " [  3.86436469e-07   2.19531902e-07   6.00815003e-07   5.22057330e-07\n",
      "   -5.10239101e-07  -1.80925706e-05]\n",
      " [  1.53632693e-07   9.84534859e-06  -5.80984571e-06  -3.63864019e-07\n",
      "    3.31536850e-06  -6.05749699e-06]\n",
      " [ -2.99843192e-07   2.30595406e-06   1.20636760e-05  -1.46257243e-06\n",
      "   -2.82071883e-05  -5.73219911e-06]]\n",
      "\n",
      "The independent component matrix is not orthogonal\n",
      "The independent components are not unit vectors\n",
      "The independent components are not orthogonal\n"
     ]
    }
   ],
   "source": [
    "# TODO: Fit an ICA model to the data\n",
    "# Note: Adjust the data to have center at the origin first! <-- this is done automatically during whitening\n",
    "from sklearn.decomposition import FastICA\n",
    "n = min(data.shape)\n",
    "ica = FastICA(n_components=n, random_state=42).fit(data)\n",
    "\n",
    "# Print the independent components\n",
    "print ica.components_\n",
    "\n",
    "#check to see if IC matrix is orthogonal\n",
    "W = np.matrix(ica.components_)\n",
    "truth_matrix = abs((W.T * W) - np.identity(n)) < np.full((n, n),1e-10)\n",
    "print '\\nThe independent component matrix is %sorthogonal' % (('not ', '')[truth_matrix.all()])\n",
    "\n",
    "#check to see if IC's are unit vectors\n",
    "square_matrix = [(0.99999999 < sum(ica.components_[i] * ica.components_[i]) < 1.00000001) \n",
    "              for i in xrange(n) ]\n",
    "print 'The independent components are %sunit vectors' % (('not ', '')[all(square_matrix)])\n",
    "\n",
    "#check to see if IC's are orthogonal\n",
    "cross_matrix =  [(abs(sum(ica.components_[i] * ica.components_[j])) < 1e-10) #orthogonality check\n",
    "              for i in xrange(n)\n",
    "              for j in xrange(i+1,n)]\n",
    "print 'The independent components are %sorthogonal' % (('not ', '')[all(cross_matrix)])"
   ]
  },
  {
   "cell_type": "markdown",
   "metadata": {},
   "source": [
    "**4)** For each vector in the ICA decomposition, write a sentence or two explaining what sort of object or property it corresponds to. What could these components be used for?"
   ]
  },
  {
   "cell_type": "markdown",
   "metadata": {
    "collapsed": true
   },
   "source": [
    "Answer: \n",
    "\n",
    "Contrary to the principal components matrix, the independent components matrix is composed of vectors that are neither of unit length nor mutually orthogonal. The fact that that the independent component vectors are not orthogonal is a direct result of our attempt to make them independent. The fact  they have different lengths suggests that the length of an independent component vector has some meaning. But it is not clear at the present time just what this meaning is.\n",
    "\n",
    "In any case, we can get some idea of what groups of products trend together be looking at the coefficients inside each independent component vector. Within a vector, the magnitude of a coefficient tells us how important the feature to which it corresponds is to that independent component vector. By focusing on the coefficients of greatest magnitude within a vector, we can get an idea of how customers purchase products from different feature groups. If two coefficients have the same sign this implies that sales of the feature items to which they correspond trend together. If they have opposite sign, it implies that customers who buy more from one group buy less from the other. We can utilize this knowledge to better assist our wholesale distributor client optimize marketing strategies to increase sales, perhaps by offering discounts on purchases of one feature group item based on the purchase of another form a different but synergistic feature group. We can also suggest ways to maximize efficiency and cost reduction by bundling delivery of feature items that scale together.\n",
    "\n",
    "The first independent component on the list is composed of something like 2 parts 'frozen', 1 part 'delicatessen' and smaller bits of the other features. Because the coefficients have opposite sign, we see that stores that buy more 'frozen' goods buy less 'delicatessen' goods and vice versa.\n",
    "\n",
    "The second independent component on the list is composed of something like 4 parts 'fresh', 2 parts 'detergents_paper', 1 part 'delicatessen' and smaller bits of the other features. Again because the coefficients, we see that 'fresh' and 'detergents_paper' trend together, whereas 'delicatessen' purchases go down as the others go up.\n",
    "\n",
    "The third independent component on the list is composed of something like 6 parts 'grocery', 2 parts 'milk', 1 part 'delicatessen' and smaller bits of the other features. We see that 'grocery' trends against 'milk' and 'delicatessen'.\n",
    "\n",
    "The fourth independent component on the list is composed of almost entirely 'delicatessen'. 'Delicatessen seems to play an important role in all of the independent components, doesn't it? That might imply that we could segment our customer base into different groups based on how they purchase 'delicatessen' items in relation to other stuff.\n",
    "\n",
    "The fifth independent component on the list is a mixture of a lot of stuff: 10 parts 'milk', 6 parts 'grocery', 6 parts 'delicatessen', 6 parts 'delicatessen', 3 paers 'detergents_paper' and smaller bits of the remaining features. 'Milk' and 'detergents_paper' trend together, as do 'grocery' and 'delicatessen', which of course implies they trend opposite the other two.\n",
    "\n",
    "The sixth independent component on the list is composed of something like 6 parts 'detergents_paper', 2 parts 'grocery', 1 part 'delicatessen' and smaller bits of the other features. 'Detergents_paper' trends with 'delicatessen' and against 'grocery'."
   ]
  },
  {
   "cell_type": "markdown",
   "metadata": {},
   "source": [
    "##Clustering\n",
    "\n",
    "In this section you will choose either K Means clustering or Gaussian Mixed Models clustering, which implements expectation-maximization. Then you will sample elements from the clusters to understand their significance."
   ]
  },
  {
   "cell_type": "markdown",
   "metadata": {},
   "source": [
    "###Choose a Cluster Type\n",
    "\n",
    "**5)** What are the advantages of using K Means clustering or Gaussian Mixture Models?"
   ]
  },
  {
   "cell_type": "markdown",
   "metadata": {},
   "source": [
    "Answer: \n",
    "\n",
    "[K Means clustering](http://scikit-learn.org/stable/modules/clustering.html#k-means) is a quick and conceptually straightforward algorithm for clustering data. It works well when the data clusters are relatively simple in shape, like Gaussian hyperspheres, but can struggle to identify clusters properly when the clusters have more complex non-linear geometries.\n",
    "\n",
    "[Gaussian Mixture Models](http://scikit-learn.org/stable/modules/mixture.html) is an generalization of K Means clustering that takes into account the covariance of the data. It os very fast, and it does not presume the data has a specific structure that may in fact not be applicable.\n",
    "\n",
    "Gaussian Mixture Models is a better choice, simply because it presumes less than K Means Clustering about the structure of the data. So this is the model that we will use.\n",
    "\n",
    "Notice that both of these models presume more or less that the data are Gaussian distributed. This is at odds with the Independent Components Analysis, which presumes that the data are certainly not Gaussian distributed. For this reason, we will not be using ICA for preprocessing. We will use PCA instead."
   ]
  },
  {
   "cell_type": "markdown",
   "metadata": {},
   "source": [
    "**6)** Below is some starter code to help you visualize some cluster data. The visualization is based on [this demo](http://scikit-learn.org/stable/auto_examples/cluster/plot_kmeans_digits.html) from the sklearn documentation."
   ]
  },
  {
   "cell_type": "code",
   "execution_count": 4,
   "metadata": {
    "collapsed": true
   },
   "outputs": [],
   "source": [
    "# Import clustering modules\n",
    "from sklearn.cluster import KMeans\n",
    "from sklearn.mixture import GMM"
   ]
  },
  {
   "cell_type": "code",
   "execution_count": 5,
   "metadata": {
    "collapsed": false
   },
   "outputs": [
    {
     "name": "stdout",
     "output_type": "stream",
     "text": [
      "[[-14112.07286824  10409.72068096]\n",
      " [ -9035.2457668   12866.65309972]\n",
      " [ -8620.05203937  11402.96376688]\n",
      " [-14452.39718306   2544.39559425]\n",
      " [-24120.04947733   6664.4757757 ]\n",
      " [-10696.08915346   7864.33086375]\n",
      " [-12746.49985397   6811.19932521]\n",
      " [ -8987.4670792   10253.69856292]\n",
      " [ -6749.95534899   6618.2924349 ]\n",
      " [ -8638.4163921   22304.76079577]]\n"
     ]
    }
   ],
   "source": [
    "# TODO: First we reduce the data to two dimensions using PCA to capture variation\n",
    "PCMatrix = PCA(n_components=2).fit(data).components_\n",
    "reduced_data = np.dot(data, PCMatrix.T)\n",
    "print reduced_data[:10]  # print up to 10 elements"
   ]
  },
  {
   "cell_type": "code",
   "execution_count": 6,
   "metadata": {
    "collapsed": false
   },
   "outputs": [
    {
     "name": "stdout",
     "output_type": "stream",
     "text": [
      "GMM(covariance_type='diag', init_params='wmc', min_covar=0.001,\n",
      "  n_components=8, n_init=1, n_iter=100, params='wmc', random_state=42,\n",
      "  thresh=None, tol=0.001, verbose=0)\n"
     ]
    }
   ],
   "source": [
    "# TODO: Implement your clustering algorithm here, and fit it to the reduced data for visualization\n",
    "# The visualizer below assumes your clustering object is named 'clusters'\n",
    "# find best-performing gmm model using an ad-hoc grid-search approach with BIC as metric\n",
    "# adapted from \n",
    "# http://scikit-learn.org/stable/auto_examples/mixture/plot_gmm_selection.html#example-mixture-plot-gmm-selection-py\n",
    "lowest_BIC = np.infty\n",
    "for n_components in xrange(1,11):\n",
    "    for covariance_type in ('spherical', 'tied', 'diag', 'full'):\n",
    "        gmm = GMM(n_components, covariance_type, random_state=42)\n",
    "        this_clustering = gmm.fit(reduced_data)\n",
    "        this_BIC = gmm.bic(reduced_data)\n",
    "        if this_BIC < lowest_BIC:\n",
    "            lowest_BIC, clusters = this_BIC, gmm\n",
    "\n",
    "print clusters.fit(reduced_data)"
   ]
  },
  {
   "cell_type": "code",
   "execution_count": 7,
   "metadata": {
    "collapsed": false
   },
   "outputs": [
    {
     "name": "stdout",
     "output_type": "stream",
     "text": [
      "There are 83 samples in Cluster 0\n",
      "Here is what a typical Cluster 0 customers buys from the wholesale distributor:\n",
      "Fresh                2149.674699\n",
      "Milk                 7534.144578\n",
      "Grocery             12095.048193\n",
      "Frozen               1297.361446\n",
      "Detergents_Paper     5258.325301\n",
      "Delicatessen         1244.012048\n",
      "dtype: float64 \n",
      "\n",
      "There are 122 samples in Cluster 1\n",
      "Here is what a typical Cluster 1 customers buys from the wholesale distributor:\n",
      "Fresh               12426.024590\n",
      "Milk                 1572.221311\n",
      "Grocery              1984.680328\n",
      "Frozen               3645.377049\n",
      "Detergents_Paper      340.131148\n",
      "Delicatessen          801.868852\n",
      "dtype: float64 \n",
      "\n",
      "There are 77 samples in Cluster 2\n",
      "Here is what a typical Cluster 2 customers buys from the wholesale distributor:\n",
      "Fresh               18608.415584\n",
      "Milk                 6437.207792\n",
      "Grocery              8283.792208\n",
      "Frozen               3945.909091\n",
      "Detergents_Paper     2191.766234\n",
      "Delicatessen         2110.493506\n",
      "dtype: float64 \n",
      "\n",
      "There are 9 samples in Cluster 3\n",
      "Here is what a typical Cluster 3 customers buys from the wholesale distributor:\n",
      "Fresh               25043.666667\n",
      "Milk                37154.000000\n",
      "Grocery             47115.111111\n",
      "Frozen               6627.333333\n",
      "Detergents_Paper    20716.444444\n",
      "Delicatessen         9478.888889\n",
      "dtype: float64 \n",
      "\n",
      "There are 28 samples in Cluster 4\n",
      "Here is what a typical Cluster 4 customers buys from the wholesale distributor:\n",
      "Fresh               41873.035714\n",
      "Milk                 2548.857143\n",
      "Grocery              3664.535714\n",
      "Frozen               5375.642857\n",
      "Detergents_Paper      693.035714\n",
      "Delicatessen         1991.428571\n",
      "dtype: float64 \n",
      "\n",
      "There is 1 sample in Cluster 5\n",
      "Here is what the Cluster 5 customer buys from the wholesale distributor:\n",
      "Fresh               112151\n",
      "Milk                 29627\n",
      "Grocery              18148\n",
      "Frozen               16745\n",
      "Detergents_Paper      4948\n",
      "Delicatessen          8550\n",
      "dtype: float64 \n",
      "\n",
      "There are 84 samples in Cluster 6\n",
      "Here is what a typical Cluster 6 customers buys from the wholesale distributor:\n",
      "Fresh               4492.607143\n",
      "Milk                2753.297619\n",
      "Grocery             3317.571429\n",
      "Frozen              2250.166667\n",
      "Detergents_Paper     720.976190\n",
      "Delicatessen        1055.988095\n",
      "dtype: float64 \n",
      "\n",
      "There are 36 samples in Cluster 7\n",
      "Here is what a typical Cluster 7 customers buys from the wholesale distributor:\n",
      "Fresh                7375.472222\n",
      "Milk                15858.027778\n",
      "Grocery             21978.416667\n",
      "Frozen               2207.638889\n",
      "Detergents_Paper     9716.416667\n",
      "Delicatessen         1917.527778\n",
      "dtype: float64 \n",
      "\n"
     ]
    }
   ],
   "source": [
    "# identify which customers are in which cluster\n",
    "x = data['Cluster'] = clusters.predict(reduced_data)\n",
    "\n",
    "# print cluster sample counts and averages\n",
    "for i in xrange(clusters.n_components):\n",
    "    count = data[x==i].shape[0]\n",
    "    print 'There %s %s sample%s in Cluster %s' % (('is', 'are')[count>1], count, ('', 's')[count>1], i)\n",
    "    print 'Here is what %s Cluster %s customer%s buys from the wholesale distributor:' % (\n",
    "        ('the', 'a typical')[count>1], i, ('','s')[count>1])\n",
    "    print data[x==i][list(data.columns[:-1])].mean(),'\\n'"
   ]
  },
  {
   "cell_type": "code",
   "execution_count": 8,
   "metadata": {
    "collapsed": false
   },
   "outputs": [],
   "source": [
    "# Plot the decision boundary by building a mesh grid to populate a graph.\n",
    "x_min, x_max = reduced_data[:, 0].min() - 1, reduced_data[:, 0].max() + 1\n",
    "y_min, y_max = reduced_data[:, 1].min() - 1, reduced_data[:, 1].max() + 1\n",
    "hx = (x_max-x_min)/1000.\n",
    "hy = (y_max-y_min)/1000.\n",
    "xx, yy = np.meshgrid(np.arange(x_min, x_max, hx), np.arange(y_min, y_max, hy))\n",
    "\n",
    "# Obtain labels for each point in mesh. Use last trained model.\n",
    "Z = clusters.predict(np.c_[xx.ravel(), yy.ravel()])"
   ]
  },
  {
   "cell_type": "code",
   "execution_count": 9,
   "metadata": {
    "collapsed": false
   },
   "outputs": [
    {
     "name": "stdout",
     "output_type": "stream",
     "text": [
      "[[  -4058.55883796   14247.16721981]\n",
      " [ -13007.08613801    1162.68366073]\n",
      " [ -19022.98339065    7791.09810257]\n",
      " [ -33154.02804526   54512.9623942 ]\n",
      " [ -39822.67630219     411.02519907]\n",
      " [-117325.47606621   18734.55121945]\n",
      " [  -5925.19361093    3552.54609579]\n",
      " [ -10690.43525617   23789.07516358]]\n"
     ]
    }
   ],
   "source": [
    "# TODO: Find the centroids for KMeans or the cluster means for GMM \n",
    "centroids = clusters.means_\n",
    "print centroids"
   ]
  },
  {
   "cell_type": "code",
   "execution_count": 10,
   "metadata": {
    "collapsed": false
   },
   "outputs": [
    {
     "data": {
      "image/png": "[encoded data removed]",
      "text/plain": [
       "<matplotlib.figure.Figure at 0x7f6d2d7aa450>"
      ]
     },
     "metadata": {},
     "output_type": "display_data"
    }
   ],
   "source": [
    "# Put the result into a color plot\n",
    "Z = Z.reshape(xx.shape)\n",
    "plt.figure(1,figsize=(10,6))\n",
    "plt.clf()\n",
    "plt.imshow(Z, interpolation='nearest',\n",
    "           extent=(xx.min(), xx.max(), yy.min(), yy.max()),\n",
    "           cmap=plt.cm.Paired,\n",
    "           aspect='auto', origin='lower')\n",
    "\n",
    "plt.plot(reduced_data[:, 0], reduced_data[:, 1], 'k.', markersize=5)\n",
    "plt.scatter(centroids[:, 0], centroids[:, 1],\n",
    "            marker='x', s=100, linewidths=3,\n",
    "            color='w', zorder=10)\n",
    "plt.title('Clustering on the wholesale grocery dataset (PCA-reduced data)\\n'\n",
    "          'Centroids are marked with white cross')\n",
    "plt.xlim(x_min, x_max)\n",
    "plt.ylim(y_min, y_max)\n",
    "plt.xticks(())\n",
    "plt.yticks(())\n",
    "plt.show()"
   ]
  },
  {
   "cell_type": "markdown",
   "metadata": {},
   "source": [
    "**7)** What are the central objects in each cluster? Describe them as customers."
   ]
  },
  {
   "cell_type": "markdown",
   "metadata": {
    "collapsed": true
   },
   "source": [
    "Answer: \n",
    "\n",
    "The graph above shows the customer data plotted in terms of the first principal component along the x-axis and the second principal component along the y-axis. The various colors represent the optimal clusterings.\n",
    "\n",
    "Recall from question 2 that the first principal component is predominantly the negative of the 'fresh' category, and that the second principal component is an amalgamation of 'grocery', 'milk' and a bit of 'detergents_paper' (hereafter known as 'GMDP'), all positive. Since the x-axis shows negative values, the larger magnitudes are to the left.\n",
    "\n",
    "The number of clusters was determined by an ad-hoc grid search using Bayesian Information Criteria (BIC) above, Details of the clusters, including sample size and average purchases by product group were provided earlier. Here we discuss them in terms of the plot immediately above, and introduce a bit of conjecture as to what type of businesses these customers might be.\n",
    "\n",
    "Cluster 0: the small customers that buy mostly 'GMDP' and don't buy much 'Fresh' or other products, shown in the graph as a vertical sky blue oval in the lower right. These might be convenience stores and corner markets.\n",
    "\n",
    "Cluster 1: the small customers that buy mostly 'Fresh' and don't buy much 'GMDP' or other products, shown in the graph as a long and narrow bluish green horizontal oval in the lower right. These might be delis and single-outlet fast food shops.\n",
    "\n",
    "Cluster 2: the mid-sized customers that buy mostly 'Fresh' but also buy a good amount of 'GMDP' and other products, shown in the graph as the large greenish spearhead shape. These might be larger restaurants.\n",
    "\n",
    "Cluster 3: the customers who tend to buy lots of both 'fresh' and 'GMDP', whose area takes up most of the diagram and is shown in red. These customers might be big-box retailers who sell a wide variety of products in bulk.\n",
    "\n",
    "Cluster 4: the large customers who tend to buy mostly 'fresh' products, shown along the bottom toward the left in orange. These might be cafeterias belonging to large corporations, schools or the government (military bases, prisons, etc.).\n",
    "\n",
    "Cluster 5: a singe customer that buys a huge amount of 'Fresh' products. It does not have a corresponding area on the color map, but is represented by the white cross at the extreme left. It might a regional distribution center for a national fast food chain.\n",
    "\n",
    "Cluster 6: the small customers that buy mostly 'Fresh' as well as a decent amount of 'GMDP' or other products, shown in the graph as the lavender spearhead shape in the lower right. These might be delis and single-outlet fast food shops, similar to Cluster 1 customers but perhaps serving different neighborhoods or customer bases.\n",
    "\n",
    "Cluster 7: the mid sized customers that tend to buy predominantly 'GMDP' products, shown as the occluded brown semi-egg at right. These might be mid sized single-outlet grocery stores."
   ]
  },
  {
   "cell_type": "markdown",
   "metadata": {},
   "source": [
    "###Conclusions\n",
    "\n",
    "**8)** Which of these techniques did you feel gave you the most insight into the data?"
   ]
  },
  {
   "cell_type": "markdown",
   "metadata": {
    "collapsed": true
   },
   "source": [
    "Answer: \n",
    "\n",
    "It seems that the Gaussian Mixture Model helped a lot to make sense out of the data. It tended to identify customer groups that lent themselves to easy (and hopefully correct) interpretation. We suspect it has done a better job at elucidating these details then K Means would, as we would not expect K Means to identify the long and narrow clusters that are nicely picked out by the Gaussian Mixture Model. Of course, all this was enabled by PCA which did an excellent job of collapsing six dimensions of data down to a convenient but still highly informative two. "
   ]
  },
  {
   "cell_type": "markdown",
   "metadata": {
    "collapsed": true
   },
   "source": [
    "**9)** How would you use that technique to help the company design new experiments?"
   ]
  },
  {
   "cell_type": "markdown",
   "metadata": {},
   "source": [
    "Answer: \n",
    "\n",
    "The original problem that our wholesale distributor client has was that when they adjusted their delivery schedule, smallee customers like those in Groups 1 and 4 complained that it did not suit their schedule. But these complaints did not register during the trial phase of the new delivery system, presumably because our client focused on the larger customers, like those in Groups 3 and 6, who had no issue with the new delivery system.\n",
    "\n",
    "Now that we have demonstrated a method of categorizing our client's customers based on what they purchase and how much of it, we can propose modifications and improvements to our client's delivery and marketing strategies that are tailored to a customer group. For example, while a low-cost bulk nightly delivery schedule was not acceptable to our customer's smaller clients, we could propose experiments to identify reduced cost delivery methods that would be acceptable to these customery, perhaps a bulk delivery system in the early business hours. We could also run some marketing experiments, like offering discounts on 'milk' products to customers who buy a lot of 'grocery' products to leverage product synergies and increase overall sales."
   ]
  },
  {
   "cell_type": "markdown",
   "metadata": {},
   "source": [
    "**10)** How would you use that data to help you predict future customer needs?"
   ]
  },
  {
   "cell_type": "markdown",
   "metadata": {},
   "source": [
    "Answer: \n",
    "\n",
    "We could track product group purchases over time by customer group, for which we could use the supervised learning technique of regression. For example, perhaps we would uncover a trend that suggests sales of 'frozen' products are decreasing over time in favor of 'fresh' products. We could alert our wholesale distributor to this trend in advance such that they could proactively prepare for a shift in customer demand. We could look deeply into the data to see if this was a universal trend, or if it affected only a subset of customer groups."
   ]
  }
 ],
 "metadata": {
  "kernelspec": {
   "display_name": "Python 2",
   "language": "python",
   "name": "python2"
  },
  "language_info": {
   "codemirror_mode": {
    "name": "ipython",
    "version": 2
   },
   "file_extension": ".py",
   "mimetype": "text/x-python",
   "name": "python",
   "nbconvert_exporter": "python",
   "pygments_lexer": "ipython2",
   "version": "2.7.11"
  }
 },
 "nbformat": 4,
 "nbformat_minor": 0
}
